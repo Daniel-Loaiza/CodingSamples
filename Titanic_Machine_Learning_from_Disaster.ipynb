{
  "nbformat": 4,
  "nbformat_minor": 0,
  "metadata": {
    "colab": {
      "name": "Titanic - Machine Learning from Disaster.ipynb",
      "provenance": [],
      "authorship_tag": "ABX9TyO6g8N2lBE/p6d7UT22U2n3",
      "include_colab_link": true
    },
    "kernelspec": {
      "name": "python3",
      "display_name": "Python 3"
    }
  },
  "cells": [
    {
      "cell_type": "markdown",
      "metadata": {
        "id": "view-in-github",
        "colab_type": "text"
      },
      "source": [
        "<a href=\"https://colab.research.google.com/github/Daniel-Loaiza/CodingSamples/blob/main/Titanic_Machine_Learning_from_Disaster.ipynb\" target=\"_parent\"><img src=\"https://colab.research.google.com/assets/colab-badge.svg\" alt=\"Open In Colab\"/></a>"
      ]
    },
    {
      "cell_type": "code",
      "metadata": {
        "id": "hgOpDmlKRg53",
        "colab": {
          "base_uri": "https://localhost:8080/"
        },
        "outputId": "0df51af6-9a53-4cb5-848b-6c28f6b6bdff"
      },
      "source": [
        "from google.colab import drive\r\n",
        "drive.mount('/content/drive')"
      ],
      "execution_count": 1,
      "outputs": [
        {
          "output_type": "stream",
          "text": [
            "Mounted at /content/drive\n"
          ],
          "name": "stdout"
        }
      ]
    },
    {
      "cell_type": "code",
      "metadata": {
        "id": "cS8QK0jJW1Wx"
      },
      "source": [
        "# We import the required modules and packages\r\n",
        "import matplotlib.pyplot as plt\r\n",
        "import numpy as np # linear algebra\r\n",
        "import pandas as pd # data processing, CSV file I/O (e.g. pd.read_csv)\r\n",
        "import os\r\n",
        "import seaborn as sns\r\n",
        "from sklearn import tree\r\n",
        "\r\n",
        "%matplotlib inline"
      ],
      "execution_count": 32,
      "outputs": []
    },
    {
      "cell_type": "code",
      "metadata": {
        "id": "pO8agU-IXF9T"
      },
      "source": [
        "os.chdir('/content/drive/MyDrive/Titanic - Machine Learning from Disaster')"
      ],
      "execution_count": 5,
      "outputs": []
    },
    {
      "cell_type": "code",
      "metadata": {
        "id": "Jio-ot0NXcjL",
        "outputId": "57914972-c4da-44f0-c6ac-f22db0f7767a",
        "colab": {
          "base_uri": "https://localhost:8080/"
        }
      },
      "source": [
        "os.listdir()"
      ],
      "execution_count": 6,
      "outputs": [
        {
          "output_type": "execute_result",
          "data": {
            "text/plain": [
              "['test.csv', 'train.csv']"
            ]
          },
          "metadata": {
            "tags": []
          },
          "execution_count": 6
        }
      ]
    },
    {
      "cell_type": "code",
      "metadata": {
        "id": "iOkHHbq9Yguo",
        "outputId": "617c0fa8-f350-4830-d00d-787c16ce6ecc",
        "colab": {
          "base_uri": "https://localhost:8080/"
        }
      },
      "source": [
        "for dirname, _, filenames in os.walk('/content/drive/MyDrive/Titanic - Machine Learning from Disaster'):\r\n",
        "    for filename in filenames:\r\n",
        "        print(os.path.join(dirname, filename))"
      ],
      "execution_count": 9,
      "outputs": [
        {
          "output_type": "stream",
          "text": [
            "/content/drive/MyDrive/Titanic - Machine Learning from Disaster/test.csv\n",
            "/content/drive/MyDrive/Titanic - Machine Learning from Disaster/train.csv\n"
          ],
          "name": "stdout"
        }
      ]
    },
    {
      "cell_type": "code",
      "metadata": {
        "id": "ps72sWePfjaA"
      },
      "source": [
        "train = pd.read_csv('/content/drive/MyDrive/Titanic - Machine Learning from Disaster/train.csv')\r\n",
        "test = pd.read_csv('/content/drive/MyDrive/Titanic - Machine Learning from Disaster/test.csv')"
      ],
      "execution_count": 12,
      "outputs": []
    },
    {
      "cell_type": "markdown",
      "metadata": {
        "id": "G2d-Fdm8l00y"
      },
      "source": [
        "**Exploratory Data Analysis**"
      ]
    },
    {
      "cell_type": "code",
      "metadata": {
        "id": "X6i9QkKIf9UK",
        "outputId": "2a1ed0b7-4c41-43dd-8790-c22e7d801cef",
        "colab": {
          "base_uri": "https://localhost:8080/"
        }
      },
      "source": [
        "print(train.head())"
      ],
      "execution_count": 13,
      "outputs": [
        {
          "output_type": "stream",
          "text": [
            "   PassengerId  Survived  Pclass  ...     Fare Cabin  Embarked\n",
            "0            1         0       3  ...   7.2500   NaN         S\n",
            "1            2         1       1  ...  71.2833   C85         C\n",
            "2            3         1       3  ...   7.9250   NaN         S\n",
            "3            4         1       1  ...  53.1000  C123         S\n",
            "4            5         0       3  ...   8.0500   NaN         S\n",
            "\n",
            "[5 rows x 12 columns]\n"
          ],
          "name": "stdout"
        }
      ]
    },
    {
      "cell_type": "code",
      "metadata": {
        "id": "pyGWcI4Jf_sn",
        "outputId": "29ca3b51-73d3-495f-bde8-868c1ea95f2c",
        "colab": {
          "base_uri": "https://localhost:8080/"
        }
      },
      "source": [
        "print(test.head())"
      ],
      "execution_count": 14,
      "outputs": [
        {
          "output_type": "stream",
          "text": [
            "   PassengerId  Pclass  ... Cabin Embarked\n",
            "0          892       3  ...   NaN        Q\n",
            "1          893       3  ...   NaN        S\n",
            "2          894       2  ...   NaN        Q\n",
            "3          895       3  ...   NaN        S\n",
            "4          896       3  ...   NaN        S\n",
            "\n",
            "[5 rows x 11 columns]\n"
          ],
          "name": "stdout"
        }
      ]
    },
    {
      "cell_type": "code",
      "metadata": {
        "id": "VKWkmmkBgCOc",
        "outputId": "59cdb7cd-7881-4ef8-80ac-56cda5276180",
        "colab": {
          "base_uri": "https://localhost:8080/",
          "height": 297
        }
      },
      "source": [
        "train.describe()"
      ],
      "execution_count": 15,
      "outputs": [
        {
          "output_type": "execute_result",
          "data": {
            "text/html": [
              "<div>\n",
              "<style scoped>\n",
              "    .dataframe tbody tr th:only-of-type {\n",
              "        vertical-align: middle;\n",
              "    }\n",
              "\n",
              "    .dataframe tbody tr th {\n",
              "        vertical-align: top;\n",
              "    }\n",
              "\n",
              "    .dataframe thead th {\n",
              "        text-align: right;\n",
              "    }\n",
              "</style>\n",
              "<table border=\"1\" class=\"dataframe\">\n",
              "  <thead>\n",
              "    <tr style=\"text-align: right;\">\n",
              "      <th></th>\n",
              "      <th>PassengerId</th>\n",
              "      <th>Survived</th>\n",
              "      <th>Pclass</th>\n",
              "      <th>Age</th>\n",
              "      <th>SibSp</th>\n",
              "      <th>Parch</th>\n",
              "      <th>Fare</th>\n",
              "    </tr>\n",
              "  </thead>\n",
              "  <tbody>\n",
              "    <tr>\n",
              "      <th>count</th>\n",
              "      <td>891.000000</td>\n",
              "      <td>891.000000</td>\n",
              "      <td>891.000000</td>\n",
              "      <td>714.000000</td>\n",
              "      <td>891.000000</td>\n",
              "      <td>891.000000</td>\n",
              "      <td>891.000000</td>\n",
              "    </tr>\n",
              "    <tr>\n",
              "      <th>mean</th>\n",
              "      <td>446.000000</td>\n",
              "      <td>0.383838</td>\n",
              "      <td>2.308642</td>\n",
              "      <td>29.699118</td>\n",
              "      <td>0.523008</td>\n",
              "      <td>0.381594</td>\n",
              "      <td>32.204208</td>\n",
              "    </tr>\n",
              "    <tr>\n",
              "      <th>std</th>\n",
              "      <td>257.353842</td>\n",
              "      <td>0.486592</td>\n",
              "      <td>0.836071</td>\n",
              "      <td>14.526497</td>\n",
              "      <td>1.102743</td>\n",
              "      <td>0.806057</td>\n",
              "      <td>49.693429</td>\n",
              "    </tr>\n",
              "    <tr>\n",
              "      <th>min</th>\n",
              "      <td>1.000000</td>\n",
              "      <td>0.000000</td>\n",
              "      <td>1.000000</td>\n",
              "      <td>0.420000</td>\n",
              "      <td>0.000000</td>\n",
              "      <td>0.000000</td>\n",
              "      <td>0.000000</td>\n",
              "    </tr>\n",
              "    <tr>\n",
              "      <th>25%</th>\n",
              "      <td>223.500000</td>\n",
              "      <td>0.000000</td>\n",
              "      <td>2.000000</td>\n",
              "      <td>20.125000</td>\n",
              "      <td>0.000000</td>\n",
              "      <td>0.000000</td>\n",
              "      <td>7.910400</td>\n",
              "    </tr>\n",
              "    <tr>\n",
              "      <th>50%</th>\n",
              "      <td>446.000000</td>\n",
              "      <td>0.000000</td>\n",
              "      <td>3.000000</td>\n",
              "      <td>28.000000</td>\n",
              "      <td>0.000000</td>\n",
              "      <td>0.000000</td>\n",
              "      <td>14.454200</td>\n",
              "    </tr>\n",
              "    <tr>\n",
              "      <th>75%</th>\n",
              "      <td>668.500000</td>\n",
              "      <td>1.000000</td>\n",
              "      <td>3.000000</td>\n",
              "      <td>38.000000</td>\n",
              "      <td>1.000000</td>\n",
              "      <td>0.000000</td>\n",
              "      <td>31.000000</td>\n",
              "    </tr>\n",
              "    <tr>\n",
              "      <th>max</th>\n",
              "      <td>891.000000</td>\n",
              "      <td>1.000000</td>\n",
              "      <td>3.000000</td>\n",
              "      <td>80.000000</td>\n",
              "      <td>8.000000</td>\n",
              "      <td>6.000000</td>\n",
              "      <td>512.329200</td>\n",
              "    </tr>\n",
              "  </tbody>\n",
              "</table>\n",
              "</div>"
            ],
            "text/plain": [
              "       PassengerId    Survived      Pclass  ...       SibSp       Parch        Fare\n",
              "count   891.000000  891.000000  891.000000  ...  891.000000  891.000000  891.000000\n",
              "mean    446.000000    0.383838    2.308642  ...    0.523008    0.381594   32.204208\n",
              "std     257.353842    0.486592    0.836071  ...    1.102743    0.806057   49.693429\n",
              "min       1.000000    0.000000    1.000000  ...    0.000000    0.000000    0.000000\n",
              "25%     223.500000    0.000000    2.000000  ...    0.000000    0.000000    7.910400\n",
              "50%     446.000000    0.000000    3.000000  ...    0.000000    0.000000   14.454200\n",
              "75%     668.500000    1.000000    3.000000  ...    1.000000    0.000000   31.000000\n",
              "max     891.000000    1.000000    3.000000  ...    8.000000    6.000000  512.329200\n",
              "\n",
              "[8 rows x 7 columns]"
            ]
          },
          "metadata": {
            "tags": []
          },
          "execution_count": 15
        }
      ]
    },
    {
      "cell_type": "code",
      "metadata": {
        "id": "tClL5NZVgz_F",
        "outputId": "83ecd6be-6240-47b1-99e2-ebbc0a605707",
        "colab": {
          "base_uri": "https://localhost:8080/"
        }
      },
      "source": [
        "train.shape"
      ],
      "execution_count": 16,
      "outputs": [
        {
          "output_type": "execute_result",
          "data": {
            "text/plain": [
              "(891, 12)"
            ]
          },
          "metadata": {
            "tags": []
          },
          "execution_count": 16
        }
      ]
    },
    {
      "cell_type": "code",
      "metadata": {
        "id": "fe1uUOv4g2Dz",
        "outputId": "cf0435e5-7900-4550-e6e9-acf8444fcd01",
        "colab": {
          "base_uri": "https://localhost:8080/"
        }
      },
      "source": [
        "# Passengers that survived vs passengers that passed away\r\n",
        "print(train[\"Survived\"].value_counts())\r\n",
        "\r\n",
        "# As proportions\r\n",
        "print(train[\"Survived\"].value_counts(normalize = True))\r\n",
        "\r\n",
        "# Males that survived vs males that passed away\r\n",
        "print(train[\"Survived\"][train[\"Sex\"] == 'male'].value_counts())\r\n",
        "\r\n",
        "# Females that survived vs Females that passed away\r\n",
        "print(train[\"Survived\"][train[\"Sex\"] == 'female'].value_counts())\r\n",
        "\r\n",
        "# Normalized male survival\r\n",
        "print(train[\"Survived\"][train[\"Sex\"] == 'male'].value_counts(normalize = True))\r\n",
        "\r\n",
        "# Normalized female survival\r\n",
        "print(train[\"Survived\"][train[\"Sex\"] == 'female'].value_counts(normalize = True))"
      ],
      "execution_count": 17,
      "outputs": [
        {
          "output_type": "stream",
          "text": [
            "0    549\n",
            "1    342\n",
            "Name: Survived, dtype: int64\n",
            "0    0.616162\n",
            "1    0.383838\n",
            "Name: Survived, dtype: float64\n",
            "0    468\n",
            "1    109\n",
            "Name: Survived, dtype: int64\n",
            "1    233\n",
            "0     81\n",
            "Name: Survived, dtype: int64\n",
            "0    0.811092\n",
            "1    0.188908\n",
            "Name: Survived, dtype: float64\n",
            "1    0.742038\n",
            "0    0.257962\n",
            "Name: Survived, dtype: float64\n"
          ],
          "name": "stdout"
        }
      ]
    },
    {
      "cell_type": "code",
      "metadata": {
        "id": "qHkkG7-ViDK_",
        "outputId": "2a0e7c55-4fa9-4e65-b253-3319259e419b",
        "colab": {
          "base_uri": "https://localhost:8080/"
        }
      },
      "source": [
        "# Create the column Child and assign to 'NaN'\r\n",
        "train[\"Child\"] = float('NaN')\r\n",
        "\r\n",
        "# Assign 1 to passengers under 18, 0 to those 18 or older. Print the new column.\r\n",
        "train[\"Child\"][train[\"Age\"] < 18] = 1\r\n",
        "train[\"Child\"][train[\"Age\"] >= 18] = 0\r\n",
        "\r\n",
        "# Print normalized Survival Rates for passengers under 18\r\n",
        "print(train[\"Survived\"][train[\"Child\"] == 1].value_counts(normalize = True))\r\n",
        "\r\n",
        "# Print normalized Survival Rates for passengers 18 or older\r\n",
        "print(train[\"Survived\"][train[\"Child\"] == 0].value_counts(normalize = True))"
      ],
      "execution_count": 18,
      "outputs": [
        {
          "output_type": "stream",
          "text": [
            "1    0.539823\n",
            "0    0.460177\n",
            "Name: Survived, dtype: float64\n",
            "0    0.618968\n",
            "1    0.381032\n",
            "Name: Survived, dtype: float64\n"
          ],
          "name": "stdout"
        },
        {
          "output_type": "stream",
          "text": [
            "/usr/local/lib/python3.6/dist-packages/ipykernel_launcher.py:5: SettingWithCopyWarning: \n",
            "A value is trying to be set on a copy of a slice from a DataFrame\n",
            "\n",
            "See the caveats in the documentation: https://pandas.pydata.org/pandas-docs/stable/user_guide/indexing.html#returning-a-view-versus-a-copy\n",
            "  \"\"\"\n",
            "/usr/local/lib/python3.6/dist-packages/ipykernel_launcher.py:6: SettingWithCopyWarning: \n",
            "A value is trying to be set on a copy of a slice from a DataFrame\n",
            "\n",
            "See the caveats in the documentation: https://pandas.pydata.org/pandas-docs/stable/user_guide/indexing.html#returning-a-view-versus-a-copy\n",
            "  \n"
          ],
          "name": "stderr"
        }
      ]
    },
    {
      "cell_type": "code",
      "metadata": {
        "id": "1dHKI6xIiMD-",
        "outputId": "781da058-ca1f-4e7f-a917-e0f87e446692",
        "colab": {
          "base_uri": "https://localhost:8080/"
        }
      },
      "source": [
        "# Create a copy of test: test_one\r\n",
        "test_one=test\r\n",
        "\r\n",
        "# Initialize a Survived column to 0\r\n",
        "test_one[\"Survived\"]=0\r\n",
        "\r\n",
        "# Set Survived to 1 if Sex equals \"female\" and print the `Survived` column from `test_one`\r\n",
        "test_one[\"Survived\"][test_one[\"Sex\"] == \"female\"] = 1"
      ],
      "execution_count": 19,
      "outputs": [
        {
          "output_type": "stream",
          "text": [
            "/usr/local/lib/python3.6/dist-packages/ipykernel_launcher.py:8: SettingWithCopyWarning: \n",
            "A value is trying to be set on a copy of a slice from a DataFrame\n",
            "\n",
            "See the caveats in the documentation: https://pandas.pydata.org/pandas-docs/stable/user_guide/indexing.html#returning-a-view-versus-a-copy\n",
            "  \n"
          ],
          "name": "stderr"
        }
      ]
    },
    {
      "cell_type": "code",
      "metadata": {
        "id": "9doLCgRjkb0U",
        "outputId": "ca67615a-dc47-4e6c-c62e-80444db179d5",
        "colab": {
          "base_uri": "https://localhost:8080/"
        }
      },
      "source": [
        "print(test_one.Survived[:10])"
      ],
      "execution_count": 22,
      "outputs": [
        {
          "output_type": "stream",
          "text": [
            "0    0\n",
            "1    1\n",
            "2    0\n",
            "3    0\n",
            "4    1\n",
            "5    0\n",
            "6    1\n",
            "7    0\n",
            "8    1\n",
            "9    0\n",
            "Name: Survived, dtype: int64\n"
          ],
          "name": "stdout"
        }
      ]
    },
    {
      "cell_type": "markdown",
      "metadata": {
        "id": "yrWNgbDrlovb"
      },
      "source": [
        "**Decision Tree**"
      ]
    },
    {
      "cell_type": "code",
      "metadata": {
        "id": "9FlowVsokzwy",
        "outputId": "1824a516-f7e9-4eff-a2d9-5437ab06942c",
        "colab": {
          "base_uri": "https://localhost:8080/"
        }
      },
      "source": [
        "# Convert the male and female groups to integer form\r\n",
        "train[\"Sex\"][train[\"Sex\"] == \"male\"] = 0\r\n",
        "train[\"Sex\"][train[\"Sex\"] == \"female\"] = 1\r\n",
        "\r\n",
        "# Impute the Embarked variable\r\n",
        "train[\"Embarked\"] = train[\"Embarked\"].fillna(\"S\")\r\n",
        "\r\n",
        "# Impute the Age variable\r\n",
        "train[\"Age\"] = train[\"Age\"].fillna(train[\"Age\"].median())\r\n",
        "\r\n",
        "# Convert the Embarked classes to integer form\r\n",
        "train[\"Embarked\"][train[\"Embarked\"] == \"S\"] = 0\r\n",
        "train[\"Embarked\"][train[\"Embarked\"] == \"C\"] = 1\r\n",
        "train[\"Embarked\"][train[\"Embarked\"] == \"Q\"] = 2\r\n",
        "\r\n",
        "#Print the Sex and Embarked columns\r\n",
        "print(train[\"Sex\"])\r\n",
        "print(train[\"Embarked\"])"
      ],
      "execution_count": 40,
      "outputs": [
        {
          "output_type": "stream",
          "text": [
            "0      0\n",
            "1      1\n",
            "2      1\n",
            "3      1\n",
            "4      0\n",
            "      ..\n",
            "886    0\n",
            "887    1\n",
            "888    1\n",
            "889    0\n",
            "890    0\n",
            "Name: Sex, Length: 891, dtype: object\n",
            "0      0\n",
            "1      1\n",
            "2      0\n",
            "3      0\n",
            "4      0\n",
            "      ..\n",
            "886    0\n",
            "887    0\n",
            "888    0\n",
            "889    1\n",
            "890    2\n",
            "Name: Embarked, Length: 891, dtype: int64\n"
          ],
          "name": "stdout"
        },
        {
          "output_type": "stream",
          "text": [
            "/usr/local/lib/python3.6/dist-packages/ipykernel_launcher.py:2: SettingWithCopyWarning: \n",
            "A value is trying to be set on a copy of a slice from a DataFrame\n",
            "\n",
            "See the caveats in the documentation: https://pandas.pydata.org/pandas-docs/stable/user_guide/indexing.html#returning-a-view-versus-a-copy\n",
            "  \n",
            "/usr/local/lib/python3.6/dist-packages/ipykernel_launcher.py:3: SettingWithCopyWarning: \n",
            "A value is trying to be set on a copy of a slice from a DataFrame\n",
            "\n",
            "See the caveats in the documentation: https://pandas.pydata.org/pandas-docs/stable/user_guide/indexing.html#returning-a-view-versus-a-copy\n",
            "  This is separate from the ipykernel package so we can avoid doing imports until\n",
            "/usr/local/lib/python3.6/dist-packages/ipykernel_launcher.py:12: SettingWithCopyWarning: \n",
            "A value is trying to be set on a copy of a slice from a DataFrame\n",
            "\n",
            "See the caveats in the documentation: https://pandas.pydata.org/pandas-docs/stable/user_guide/indexing.html#returning-a-view-versus-a-copy\n",
            "  if sys.path[0] == '':\n",
            "/usr/local/lib/python3.6/dist-packages/ipykernel_launcher.py:13: SettingWithCopyWarning: \n",
            "A value is trying to be set on a copy of a slice from a DataFrame\n",
            "\n",
            "See the caveats in the documentation: https://pandas.pydata.org/pandas-docs/stable/user_guide/indexing.html#returning-a-view-versus-a-copy\n",
            "  del sys.path[0]\n",
            "/usr/local/lib/python3.6/dist-packages/ipykernel_launcher.py:14: SettingWithCopyWarning: \n",
            "A value is trying to be set on a copy of a slice from a DataFrame\n",
            "\n",
            "See the caveats in the documentation: https://pandas.pydata.org/pandas-docs/stable/user_guide/indexing.html#returning-a-view-versus-a-copy\n",
            "  \n"
          ],
          "name": "stderr"
        }
      ]
    },
    {
      "cell_type": "code",
      "metadata": {
        "id": "lD7ItwdEobu2",
        "outputId": "63c33556-b866-499d-cb3a-486ca647a5e2",
        "colab": {
          "base_uri": "https://localhost:8080/"
        }
      },
      "source": [
        "# Print the train data to see the available features\r\n",
        "print(train)"
      ],
      "execution_count": 41,
      "outputs": [
        {
          "output_type": "stream",
          "text": [
            "     PassengerId  Survived  Pclass  ... Cabin Embarked  Child\n",
            "0              1         0       3  ...   NaN        0    0.0\n",
            "1              2         1       1  ...   C85        1    0.0\n",
            "2              3         1       3  ...   NaN        0    0.0\n",
            "3              4         1       1  ...  C123        0    0.0\n",
            "4              5         0       3  ...   NaN        0    0.0\n",
            "..           ...       ...     ...  ...   ...      ...    ...\n",
            "886          887         0       2  ...   NaN        0    0.0\n",
            "887          888         1       1  ...   B42        0    0.0\n",
            "888          889         0       3  ...   NaN        0    NaN\n",
            "889          890         1       1  ...  C148        1    0.0\n",
            "890          891         0       3  ...   NaN        2    0.0\n",
            "\n",
            "[891 rows x 13 columns]\n"
          ],
          "name": "stdout"
        }
      ]
    },
    {
      "cell_type": "code",
      "metadata": {
        "id": "fAQ4kxtIoebT"
      },
      "source": [
        "# Create the target and features numpy arrays: target, features_one\r\n",
        "target = train[\"Survived\"].values\r\n",
        "features_one = train[[\"Pclass\", \"Sex\", \"Age\", \"Fare\"]].values"
      ],
      "execution_count": 42,
      "outputs": []
    },
    {
      "cell_type": "code",
      "metadata": {
        "id": "bozPWy2JpAIW",
        "outputId": "d7dea75c-9522-4e32-aea6-9dd389536361",
        "colab": {
          "base_uri": "https://localhost:8080/"
        }
      },
      "source": [
        "target[:10]"
      ],
      "execution_count": 43,
      "outputs": [
        {
          "output_type": "execute_result",
          "data": {
            "text/plain": [
              "array([0, 1, 1, 1, 0, 0, 0, 0, 1, 1])"
            ]
          },
          "metadata": {
            "tags": []
          },
          "execution_count": 43
        }
      ]
    },
    {
      "cell_type": "code",
      "metadata": {
        "id": "in24kMJcpDcV",
        "outputId": "73a13cf8-cc2b-45d0-aecc-c35abaf2330e",
        "colab": {
          "base_uri": "https://localhost:8080/"
        }
      },
      "source": [
        "features_one[:10]"
      ],
      "execution_count": 44,
      "outputs": [
        {
          "output_type": "execute_result",
          "data": {
            "text/plain": [
              "array([[3, 0, 22.0, 7.25],\n",
              "       [1, 1, 38.0, 71.2833],\n",
              "       [3, 1, 26.0, 7.925],\n",
              "       [1, 1, 35.0, 53.1],\n",
              "       [3, 0, 35.0, 8.05],\n",
              "       [3, 0, 28.0, 8.4583],\n",
              "       [1, 0, 54.0, 51.8625],\n",
              "       [3, 0, 2.0, 21.075],\n",
              "       [3, 1, 27.0, 11.1333],\n",
              "       [2, 1, 14.0, 30.0708]], dtype=object)"
            ]
          },
          "metadata": {
            "tags": []
          },
          "execution_count": 44
        }
      ]
    },
    {
      "cell_type": "code",
      "metadata": {
        "id": "7mzs_9OBpLt5"
      },
      "source": [
        "# Fit your first decision tree: my_tree_one\r\n",
        "my_tree_one = tree.DecisionTreeClassifier()\r\n",
        "my_tree_one = my_tree_one.fit(features_one, target)"
      ],
      "execution_count": 45,
      "outputs": []
    },
    {
      "cell_type": "code",
      "metadata": {
        "id": "kQPhuFqEpawy",
        "outputId": "9467628b-7e38-4e42-ee9f-f99da26a6b47",
        "colab": {
          "base_uri": "https://localhost:8080/"
        }
      },
      "source": [
        "# Look at the importance and score of the included features\r\n",
        "print(my_tree_one.feature_importances_)\r\n",
        "print(my_tree_one.score(features_one, target))"
      ],
      "execution_count": 46,
      "outputs": [
        {
          "output_type": "stream",
          "text": [
            "[0.12445204 0.31274009 0.2349212  0.32788667]\n",
            "0.9775533108866442\n"
          ],
          "name": "stdout"
        }
      ]
    },
    {
      "cell_type": "code",
      "metadata": {
        "id": "PXUu-imCpspF",
        "outputId": "a79fe8d6-3d55-48fe-d4be-ebb5e6fe3e8a",
        "colab": {
          "base_uri": "https://localhost:8080/"
        }
      },
      "source": [
        "my_tree_one.feature_importances_"
      ],
      "execution_count": 48,
      "outputs": [
        {
          "output_type": "execute_result",
          "data": {
            "text/plain": [
              "array([0.12445204, 0.31274009, 0.2349212 , 0.32788667])"
            ]
          },
          "metadata": {
            "tags": []
          },
          "execution_count": 48
        }
      ]
    },
    {
      "cell_type": "code",
      "metadata": {
        "id": "kBeyfUdKqz3u",
        "outputId": "557b0a57-cc01-4d42-b75a-648054ceda15",
        "colab": {
          "base_uri": "https://localhost:8080/"
        }
      },
      "source": [
        "# Impute the missing value with the median\r\n",
        "test.Fare[153] = test[\"Fare\"].median()\r\n",
        "test[\"Sex\"][test[\"Sex\"] == \"male\"] = 0\r\n",
        "test[\"Sex\"][test[\"Sex\"] == \"female\"] = 1\r\n",
        "test[\"Age\"] = test[\"Age\"].fillna(train[\"Age\"].median())\r\n",
        "\r\n",
        "# Extract the features from the test set: Pclass, Sex, Age, and Fare.\r\n",
        "test_features = test[['Pclass', 'Sex', 'Age', 'Fare']].values\r\n",
        "\r\n",
        "# Make your prediction using the test set\r\n",
        "my_prediction = my_tree_one.predict(test_features)\r\n",
        "\r\n",
        "# Create a data frame with two columns: PassengerId & Survived. Survived contains your predictions\r\n",
        "PassengerId =np.array(test[\"PassengerId\"]).astype(int)\r\n",
        "my_solution = pd.DataFrame(my_prediction, PassengerId, columns = [\"Survived\"])\r\n",
        "print(my_solution)\r\n",
        "\r\n",
        "# Check that your data frame has 418 entries\r\n",
        "print(my_solution.shape)\r\n",
        "\r\n",
        "# Write your solution to a csv file with the name my_solution.csv\r\n",
        "my_solution.to_csv(\"/content/drive/MyDrive/Titanic - Machine Learning from Disaster/my_solution_one.csv\", index_label = [\"PassengerId\"])"
      ],
      "execution_count": 54,
      "outputs": [
        {
          "output_type": "stream",
          "text": [
            "      Survived\n",
            "892          0\n",
            "893          0\n",
            "894          1\n",
            "895          1\n",
            "896          1\n",
            "...        ...\n",
            "1305         0\n",
            "1306         1\n",
            "1307         0\n",
            "1308         0\n",
            "1309         0\n",
            "\n",
            "[418 rows x 1 columns]\n",
            "(418, 1)\n"
          ],
          "name": "stdout"
        },
        {
          "output_type": "stream",
          "text": [
            "/usr/local/lib/python3.6/dist-packages/ipykernel_launcher.py:2: SettingWithCopyWarning: \n",
            "A value is trying to be set on a copy of a slice from a DataFrame\n",
            "\n",
            "See the caveats in the documentation: https://pandas.pydata.org/pandas-docs/stable/user_guide/indexing.html#returning-a-view-versus-a-copy\n",
            "  \n",
            "/usr/local/lib/python3.6/dist-packages/ipykernel_launcher.py:3: SettingWithCopyWarning: \n",
            "A value is trying to be set on a copy of a slice from a DataFrame\n",
            "\n",
            "See the caveats in the documentation: https://pandas.pydata.org/pandas-docs/stable/user_guide/indexing.html#returning-a-view-versus-a-copy\n",
            "  This is separate from the ipykernel package so we can avoid doing imports until\n",
            "/usr/local/lib/python3.6/dist-packages/ipykernel_launcher.py:4: SettingWithCopyWarning: \n",
            "A value is trying to be set on a copy of a slice from a DataFrame\n",
            "\n",
            "See the caveats in the documentation: https://pandas.pydata.org/pandas-docs/stable/user_guide/indexing.html#returning-a-view-versus-a-copy\n",
            "  after removing the cwd from sys.path.\n"
          ],
          "name": "stderr"
        }
      ]
    },
    {
      "cell_type": "code",
      "metadata": {
        "id": "04ORgGxMvCmK"
      },
      "source": [
        "# Create a new array with the added features: features_two\r\n",
        "features_two = train[[\"Pclass\",\"Age\",\"Sex\",\"Fare\", \"SibSp\", \"Parch\", \"Embarked\"]].values\r\n",
        "\r\n",
        "#Control overfitting by setting \"max_depth\" to 10 and \"min_samples_split\" to 5 : my_tree_two\r\n",
        "max_depth = 10\r\n",
        "min_samples_split = 5\r\n",
        "my_tree_two = tree.DecisionTreeClassifier(max_depth = max_depth, min_samples_split = min_samples_split, random_state = 1)\r\n",
        "my_tree_two = my_tree_two.fit(features_two, target)"
      ],
      "execution_count": 56,
      "outputs": []
    },
    {
      "cell_type": "code",
      "metadata": {
        "id": "Cq4go3fw2G_h",
        "outputId": "0ca8d708-b53b-4bd4-cbc2-4dbd6cd24df0",
        "colab": {
          "base_uri": "https://localhost:8080/"
        }
      },
      "source": [
        "# Create train_two with the newly defined feature\r\n",
        "train_two = train.copy()\r\n",
        "train_two[\"family_size\"] = train_two[\"SibSp\"]+train_two[\"Parch\"]+1\r\n",
        "\r\n",
        "# Create a new feature set and add the new feature\r\n",
        "features_three = train_two[[\"Pclass\", \"Sex\", \"Age\", \"Fare\", \"SibSp\", \"Parch\", \"family_size\"]].values\r\n",
        "\r\n",
        "# Define the tree classifier, then fit the model\r\n",
        "my_tree_three = tree.DecisionTreeClassifier()\r\n",
        "my_tree_three = my_tree_three.fit(features_three, target)\r\n",
        "\r\n",
        "# Print the score of this decision tree\r\n",
        "print(my_tree_three.score(features_three, target))\r\n"
      ],
      "execution_count": 57,
      "outputs": [
        {
          "output_type": "stream",
          "text": [
            "0.9797979797979798\n"
          ],
          "name": "stdout"
        }
      ]
    },
    {
      "cell_type": "markdown",
      "metadata": {
        "id": "8IYvs7h22X1T"
      },
      "source": [
        "**Random Forest Classifier**"
      ]
    },
    {
      "cell_type": "code",
      "metadata": {
        "id": "YlkGx4Q32PhX",
        "outputId": "f39d3941-37c7-43fa-d9b8-99724fdfad22",
        "colab": {
          "base_uri": "https://localhost:8080/"
        }
      },
      "source": [
        "# Import the `RandomForestClassifier`\r\n",
        "from sklearn.ensemble import RandomForestClassifier\r\n",
        "\r\n",
        "# We want the Pclass, Age, Sex, Fare, SibSp, Parch, and Embarked variables\r\n",
        "features_forest = train[[\"Pclass\", \"Age\", \"Sex\", \"Fare\", \"SibSp\", \"Parch\", \"Embarked\"]].values\r\n",
        "\r\n",
        "# Building and fitting my_forest\r\n",
        "forest = RandomForestClassifier(max_depth = 10, min_samples_split=2, n_estimators = 100, random_state = 1)\r\n",
        "my_forest = forest.fit(features_forest, target)\r\n",
        "\r\n",
        "# Print the score of the fitted random forest\r\n",
        "print(my_forest.score(features_forest, target))\r\n",
        "\r\n",
        "# Compute predictions on our test set features then print the length of the prediction vector\r\n",
        "test[\"Embarked\"][test[\"Embarked\"] == \"S\"] = 0\r\n",
        "test[\"Embarked\"][test[\"Embarked\"] == \"C\"] = 1\r\n",
        "test[\"Embarked\"][test[\"Embarked\"] == \"Q\"] = 2\r\n",
        "\r\n",
        "test_features = test[[\"Pclass\", \"Age\", \"Sex\", \"Fare\", \"SibSp\", \"Parch\", \"Embarked\"]].values\r\n",
        "pred_forest = my_forest.predict(test_features)\r\n",
        "print(len(pred_forest))"
      ],
      "execution_count": 65,
      "outputs": [
        {
          "output_type": "stream",
          "text": [
            "0.9393939393939394\n",
            "418\n"
          ],
          "name": "stdout"
        },
        {
          "output_type": "stream",
          "text": [
            "/usr/local/lib/python3.6/dist-packages/ipykernel_launcher.py:15: SettingWithCopyWarning: \n",
            "A value is trying to be set on a copy of a slice from a DataFrame\n",
            "\n",
            "See the caveats in the documentation: https://pandas.pydata.org/pandas-docs/stable/user_guide/indexing.html#returning-a-view-versus-a-copy\n",
            "  from ipykernel import kernelapp as app\n",
            "/usr/local/lib/python3.6/dist-packages/ipykernel_launcher.py:16: SettingWithCopyWarning: \n",
            "A value is trying to be set on a copy of a slice from a DataFrame\n",
            "\n",
            "See the caveats in the documentation: https://pandas.pydata.org/pandas-docs/stable/user_guide/indexing.html#returning-a-view-versus-a-copy\n",
            "  app.launch_new_instance()\n",
            "/usr/local/lib/python3.6/dist-packages/ipykernel_launcher.py:17: SettingWithCopyWarning: \n",
            "A value is trying to be set on a copy of a slice from a DataFrame\n",
            "\n",
            "See the caveats in the documentation: https://pandas.pydata.org/pandas-docs/stable/user_guide/indexing.html#returning-a-view-versus-a-copy\n"
          ],
          "name": "stderr"
        }
      ]
    },
    {
      "cell_type": "code",
      "metadata": {
        "id": "9DsNSaRC2oXZ",
        "outputId": "8ba25382-ba82-4c0e-b03c-e3ccaa898e7c",
        "colab": {
          "base_uri": "https://localhost:8080/"
        }
      },
      "source": [
        "test[[\"Pclass\", \"Age\", \"Sex\", \"Fare\", \"SibSp\", \"Parch\", \"Embarked\"]].values"
      ],
      "execution_count": 60,
      "outputs": [
        {
          "output_type": "execute_result",
          "data": {
            "text/plain": [
              "array([[3, 34.5, 0, ..., 0, 0, 'Q'],\n",
              "       [3, 47.0, 1, ..., 1, 0, 'S'],\n",
              "       [2, 62.0, 0, ..., 0, 0, 'Q'],\n",
              "       ...,\n",
              "       [3, 38.5, 0, ..., 0, 0, 'S'],\n",
              "       [3, 28.0, 0, ..., 0, 0, 'S'],\n",
              "       [3, 28.0, 0, ..., 1, 1, 'C']], dtype=object)"
            ]
          },
          "metadata": {
            "tags": []
          },
          "execution_count": 60
        }
      ]
    },
    {
      "cell_type": "code",
      "metadata": {
        "id": "eG0Bz9YW39PZ",
        "outputId": "2dfb13e3-a647-4d80-de73-95ff33f4a3b4",
        "colab": {
          "base_uri": "https://localhost:8080/"
        }
      },
      "source": [
        "test.Embarked.value_counts()"
      ],
      "execution_count": 62,
      "outputs": [
        {
          "output_type": "execute_result",
          "data": {
            "text/plain": [
              "S    270\n",
              "C    102\n",
              "Q     46\n",
              "Name: Embarked, dtype: int64"
            ]
          },
          "metadata": {
            "tags": []
          },
          "execution_count": 62
        }
      ]
    },
    {
      "cell_type": "code",
      "metadata": {
        "id": "TzWn0bk_4LSA",
        "outputId": "e484df5e-2247-4d5c-8ef4-9e16323700b7",
        "colab": {
          "base_uri": "https://localhost:8080/"
        }
      },
      "source": [
        "features_two"
      ],
      "execution_count": 63,
      "outputs": [
        {
          "output_type": "execute_result",
          "data": {
            "text/plain": [
              "array([[3, 22.0, 0, ..., 1, 0, 0],\n",
              "       [1, 38.0, 1, ..., 1, 0, 1],\n",
              "       [3, 26.0, 1, ..., 0, 0, 0],\n",
              "       ...,\n",
              "       [3, 28.0, 1, ..., 1, 2, 0],\n",
              "       [1, 26.0, 0, ..., 0, 0, 1],\n",
              "       [3, 32.0, 0, ..., 0, 0, 2]], dtype=object)"
            ]
          },
          "metadata": {
            "tags": []
          },
          "execution_count": 63
        }
      ]
    },
    {
      "cell_type": "code",
      "metadata": {
        "id": "jvTGVT-04Z5Y",
        "outputId": "f1795e2f-f43e-4707-dd98-c7aa7e298068",
        "colab": {
          "base_uri": "https://localhost:8080/"
        }
      },
      "source": [
        "#Request and print the `.feature_importances_` attribute\r\n",
        "print(my_tree_two.feature_importances_)\r\n",
        "print(my_forest.feature_importances_)\r\n",
        "\r\n",
        "#Compute and print the mean accuracy score for both models\r\n",
        "print(my_tree_two.score(features_two, target))\r\n",
        "print(my_forest.score(features_two, target))"
      ],
      "execution_count": 66,
      "outputs": [
        {
          "output_type": "stream",
          "text": [
            "[0.14130255 0.17906027 0.41616727 0.17938711 0.05039699 0.01923751\n",
            " 0.0144483 ]\n",
            "[0.10384741 0.20139027 0.31989322 0.24602858 0.05272693 0.04159232\n",
            " 0.03452128]\n",
            "0.9057239057239057\n",
            "0.9393939393939394\n"
          ],
          "name": "stdout"
        }
      ]
    },
    {
      "cell_type": "code",
      "metadata": {
        "id": "D3xiDkA05gHw"
      },
      "source": [
        ""
      ],
      "execution_count": null,
      "outputs": []
    }
  ]
}